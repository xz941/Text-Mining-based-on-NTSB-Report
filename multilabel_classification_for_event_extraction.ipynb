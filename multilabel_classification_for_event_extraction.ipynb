{
 "cells": [
  {
   "cell_type": "markdown",
   "id": "static-innocent",
   "metadata": {},
   "source": [
    "# Multilabel Classification for Event Extraction"
   ]
  },
  {
   "cell_type": "code",
   "execution_count": 5,
   "id": "egyptian-fishing",
   "metadata": {},
   "outputs": [
    {
     "name": "stdout",
     "output_type": "stream",
     "text": [
      "The autoreload extension is already loaded. To reload it, use:\n",
      "  %reload_ext autoreload\n"
     ]
    }
   ],
   "source": [
    "%load_ext autoreload\n",
    "%autoreload 2\n",
    "import pandas as pd\n",
    "import pickle\n",
    "import numpy as np\n",
    "import re\n",
    "import nltk\n",
    "import string\n",
    "\n",
    "import pandas as pd\n",
    "import numpy as np\n",
    "from tqdm import tqdm\n",
    "\n",
    "from nltk.corpus import stopwords\n",
    "stop_words = set(stopwords.words('english'))\n",
    "from nltk.stem import WordNetLemmatizer\n",
    "lemmatizer=WordNetLemmatizer()"
   ]
  },
  {
   "cell_type": "code",
   "execution_count": 20,
   "id": "educational-hardwood",
   "metadata": {},
   "outputs": [],
   "source": [
    "import time \n",
    "from sklearn.feature_extraction.text import TfidfVectorizer\n",
    "from sklearn import metrics\n",
    "from sklearn.multiclass import OneVsRestClassifier\n",
    "from sklearn.preprocessing import MultiLabelBinarizer\n",
    "from util import * \n",
    "from sklearn.ensemble import BaggingClassifier\n",
    "from sklearn.ensemble import RandomForestClassifier\n",
    "from sklearn.ensemble import GradientBoostingClassifier\n",
    "from sklearn.naive_bayes import MultinomialNB\n",
    "from sklearn.svm import LinearSVC\n",
    "from sklearn.neighbors import KNeighborsClassifier\n",
    "from sklearn.tree import DecisionTreeClassifier"
   ]
  },
  {
   "cell_type": "markdown",
   "id": "wired-possibility",
   "metadata": {},
   "source": [
    "## Section 1: Data Preprocessing"
   ]
  },
  {
   "cell_type": "code",
   "execution_count": 3,
   "id": "complex-assist",
   "metadata": {},
   "outputs": [
    {
     "name": "stderr",
     "output_type": "stream",
     "text": [
      "/home/xinyu/miniconda3/envs/aiaa/lib/python3.7/site-packages/ipykernel_launcher.py:21: FutureWarning: Indexing with multiple keys (implicitly converted to a tuple of keys) will be deprecated, use a list instead.\n"
     ]
    }
   ],
   "source": [
    "mypath = \"data/NTSB\"\n",
    "Occurrences = pd.read_csv(mypath+'/Occurrences.csv')\n",
    "Events_Sequence = pd.read_csv(mypath+'/Events_Sequence.csv') # RECORDING FOR POST-2008\n",
    "sequence = pd.read_csv(mypath+'/seq_of_events.csv')\n",
    "aircraft = pd.read_csv(mypath+'/aircraft.csv')\n",
    "events = pd.read_csv(mypath+'/events.csv')\n",
    "DataDict = pd.read_csv(mypath+'/eADMSPUB_DataDictionary.csv')\n",
    "narratives = pd.read_csv(mypath+'/narratives.csv')\n",
    "# select key columns\n",
    "events_select = events[['ev_id','ev_highest_injury','ev_year']]\n",
    "aircraft_select = aircraft[['ev_id', 'Aircraft_Key', 'damage']]\n",
    "Occurrences_select = Occurrences[['ev_id', 'Aircraft_Key', 'Occurrence_No', 'Occurrence_Code',\n",
    "       'Phase_of_Flight']]\n",
    "sequence_select = sequence[['ev_id', 'Aircraft_Key', 'Occurrence_No','seq_event_no','Subj_Code','Modifier_Code']]\n",
    "# Merge tables according to event id, occurrence number, aircraft id\n",
    "merge_buffer = pd.merge(Occurrences_select, sequence_select, on=['ev_id', 'Aircraft_Key', 'Occurrence_No'])\n",
    "merge_buffer = pd.merge(merge_buffer, aircraft_select, on=['ev_id', 'Aircraft_Key'])\n",
    "data = pd.merge(merge_buffer, events_select, on=['ev_id'])\n",
    "\n",
    "data_select = data[data['ev_year']<=2008]\n",
    "data_group = data_select.groupby(['ev_id','Aircraft_Key'])['Occurrence_No','Occurrence_Code','Phase_of_Flight','Subj_Code','damage','ev_highest_injury','ev_year'].agg(lambda x: x.tolist()).reset_index()\n",
    "data_final = pd.merge(data_group, narratives, on=['ev_id', 'Aircraft_Key'])"
   ]
  },
  {
   "cell_type": "code",
   "execution_count": 8,
   "id": "faced-charge",
   "metadata": {},
   "outputs": [
    {
     "name": "stderr",
     "output_type": "stream",
     "text": [
      "100%|██████████| 61490/61490 [06:12<00:00, 165.05it/s]\n"
     ]
    }
   ],
   "source": [
    "predict_type ='Occurrence_Code'\n",
    "# predict_type ='Subj_Code'\n",
    "# predict_type = 'Phase_of_Flight'\n",
    "MAX_LENGTH = 20\n",
    "data_final = data_final.dropna(subset=['narr_accf'])\n",
    "data_final = data_final.dropna(subset=[predict_type])\n",
    "data_final['narr_accf'] = data_final['narr_accf'].replace('\\\\n', '', regex=True)\n",
    "data_final['narr_accf'] =  data_final['narr_accf'].replace('\\\\r', '', regex=True)\n",
    "data_filter = data_final[[len(x.split('.'))<=MAX_LENGTH for x in data_final['narr_accf']]].reset_index()\n",
    "for i, row in tqdm(data_filter.iterrows(), total=data_filter.shape[0], position=0):\n",
    "    sentence = data_filter.at[i,'narr_accf']\n",
    "    sentence = re.sub('[^A-Za-z0-9.-]+', ' ', sentence)\n",
    "    #Remove whitespaces\n",
    "    sentence = sentence.strip()\n",
    "    sentence = nltk.word_tokenize(sentence)\n",
    "    # Remove stop words\n",
    "    sentence = [i for i in sentence if not i in stop_words]\n",
    "    # Stemming and Lemmatization\n",
    "    data_buffer = []\n",
    "    for word in sentence:\n",
    "#         word_ = stemmer.stem(word)\n",
    "        word_ = lemmatizer.lemmatize(word_)\n",
    "        data_buffer.append(word_)\n",
    "    data_filter.at[i,'narr_accf'] = ' '.join(data_buffer)\n",
    "    # add phase information\n",
    "    phase_set = set(data_filter.at[i,'Phase_of_Flight'])\n",
    "    buffer = data_filter.at[i,'narr_accf']\n",
    "    for x in phase_set:\n",
    "        if list(DataDict[DataDict['code_iaids']==str(x)]['meaning']):\n",
    "            buffer += ' ' + list(DataDict[DataDict['code_iaids']==str(x)]['meaning'])[0]\n",
    "    data_filter.at[i,'narr_accf'] = buffer\n",
    "data_final = data_filter\n",
    "occurrence_corpus = list(set([item for sublist in data_final[predict_type] for item in sublist]))"
   ]
  },
  {
   "cell_type": "markdown",
   "id": "cooked-antibody",
   "metadata": {},
   "source": [
    "## Section 2: Modeling"
   ]
  },
  {
   "cell_type": "code",
   "execution_count": 13,
   "id": "constitutional-rebel",
   "metadata": {},
   "outputs": [
    {
     "name": "stderr",
     "output_type": "stream",
     "text": [
      "100%|██████████| 49192/49192 [00:04<00:00, 11179.72it/s]\n",
      "100%|██████████| 12298/12298 [00:01<00:00, 11284.96it/s]\n"
     ]
    }
   ],
   "source": [
    "from sklearn.model_selection import train_test_split\n",
    "\n",
    "train, test = train_test_split(data_final, test_size=0.2,random_state= 42)\n",
    "\n",
    "train_x = list(train['narr_accf'])\n",
    "test_x = list(test['narr_accf'])\n",
    "train_y = []\n",
    "test_y = []\n",
    "for idx, row in tqdm(train.iterrows(), total=train.shape[0], position=0):\n",
    "    train_y.append(list(set(train.at[idx,predict_type])))\n",
    "\n",
    "for idx, row in tqdm(test.iterrows(), total=test.shape[0], position=0):\n",
    "    test_y.append(list(set(test.at[idx,predict_type])))\n",
    "\n",
    "\n",
    "mlb = MultiLabelBinarizer()\n",
    "train_y = mlb.fit_transform(train_y)\n",
    "test_y = mlb.transform(test_y)\n",
    "model_list = [RandomForestClassifier(), GradientBoostingClassifier(), MultinomialNB(), LinearSVC(), KNeighborsClassifier(), DecisionTreeClassifier(),BaggingClassifier()]\n",
    "mode_name = ['RandomForestClassifier', 'GradientBoostingClassifier', 'MultinomialNB', 'LinearSVC', 'KNeighborsClassifier', 'DecisionTreeClassifier','BaggingClassifier']"
   ]
  },
  {
   "cell_type": "code",
   "execution_count": 14,
   "id": "million-theorem",
   "metadata": {},
   "outputs": [],
   "source": [
    "from sklearn.feature_extraction.text import TfidfVectorizer\n",
    "from sklearn import metrics\n",
    "\n",
    "vectorizer = TfidfVectorizer(ngram_range=(1,1))\n",
    "train_x_vector_raw = vectorizer.fit_transform(train_x)\n",
    "test_x_vector_raw = vectorizer.transform(test_x)\n",
    "# reducer = umap.UMAP()\n",
    "# embedding = reducer.fit_transform(train_x_vector)\n",
    "\n",
    "\n",
    "train_x_vector = train_x_vector_raw\n",
    "test_x_vector = test_x_vector_raw"
   ]
  },
  {
   "cell_type": "code",
   "execution_count": 18,
   "id": "smoking-literacy",
   "metadata": {},
   "outputs": [],
   "source": [
    "start = time.time()\n",
    "ii = 3\n",
    "classifier =  OneVsRestClassifier(model_list[ii])\n",
    "classifier.fit(train_x_vector, train_y)\n",
    "end = time.time()\n",
    "total_time = end - start"
   ]
  },
  {
   "cell_type": "markdown",
   "id": "vital-hybrid",
   "metadata": {},
   "source": [
    "## Section 3: Result Analysis"
   ]
  },
  {
   "cell_type": "code",
   "execution_count": 23,
   "id": "lovely-arkansas",
   "metadata": {},
   "outputs": [
    {
     "name": "stdout",
     "output_type": "stream",
     "text": [
      "------LinearSVC+_train Model Metrics-----\n",
      "AUC: 0.8504\n",
      ", Accuracy: 0.5379\n",
      "Hamming Loss: 0.0115\n",
      "Precision:\n",
      "  - Macro: 0.9673\n",
      "  - Micro: 0.9066\n",
      "Recall:\n",
      "  - Macro: 0.7131\n",
      "  - Micro: 0.7031\n",
      "F1-measure:\n",
      "  - Macro: 0.7936\n",
      "  - Micro: 0.7920\n"
     ]
    },
    {
     "name": "stderr",
     "output_type": "stream",
     "text": [
      "/home/xinyu/miniconda3/envs/aiaa/lib/python3.7/site-packages/sklearn/metrics/_classification.py:1318: UndefinedMetricWarning: Precision is ill-defined and being set to 0.0 in labels with no predicted samples. Use `zero_division` parameter to control this behavior.\n",
      "  _warn_prf(average, modifier, msg_start, len(result))\n",
      "/home/xinyu/miniconda3/envs/aiaa/lib/python3.7/site-packages/sklearn/metrics/_classification.py:1318: UndefinedMetricWarning: Recall is ill-defined and being set to 0.0 in labels with no true samples. Use `zero_division` parameter to control this behavior.\n",
      "  _warn_prf(average, modifier, msg_start, len(result))\n",
      "/home/xinyu/miniconda3/envs/aiaa/lib/python3.7/site-packages/sklearn/metrics/_classification.py:1580: UndefinedMetricWarning: F-score is ill-defined and being set to 0.0 in labels with no true nor predicted samples. Use `zero_division` parameter to control this behavior.\n",
      "  _warn_prf(average, \"true nor predicted\", \"F-score is\", len(true_sum))\n"
     ]
    },
    {
     "name": "stdout",
     "output_type": "stream",
     "text": [
      "------LinearSVC+_test Model Metrics-----\n",
      "AUC: 0.7418\n",
      ", Accuracy: 0.2889\n",
      "Hamming Loss: 0.0218\n",
      "Precision:\n",
      "  - Macro: 0.4771\n",
      "  - Micro: 0.7241\n",
      "Recall:\n",
      "  - Macro: 0.2529\n",
      "  - Micro: 0.4897\n",
      "F1-measure:\n",
      "  - Macro: 0.3075\n",
      "  - Micro: 0.5842\n"
     ]
    }
   ],
   "source": [
    "predicted = classifier.predict(train_x_vector)\n",
    "metricsReport(mode_name[ii]+'+_train',train_y, predicted, total_time)\n",
    "predicted = classifier.predict(test_x_vector)\n",
    "metricsReport(mode_name[ii]+'+_test',test_y, predicted, total_time)"
   ]
  },
  {
   "cell_type": "code",
   "execution_count": 34,
   "id": "fresh-elephant",
   "metadata": {},
   "outputs": [],
   "source": [
    "candidate = mlb.inverse_transform(predicted)\n",
    "reference = mlb.inverse_transform(test_y)\n",
    "from collections import defaultdict\n",
    "tp = defaultdict(int)  \n",
    "fp = defaultdict(int)\n",
    "fn = defaultdict(int)\n",
    "counts = defaultdict(int)\n",
    "for i in range(len(candidate)): \n",
    "    prediction = [int(x) for x in candidate[i]]\n",
    "    truth = [int(x) for x in reference[i]]\n",
    "    for x in truth:\n",
    "        counts[x] += 1\n",
    "        if x in prediction:\n",
    "            tp[x] += 1\n",
    "            prediction.remove(x)\n",
    "        else:\n",
    "            fn[x] += 1\n",
    "    if len(prediction) > 0:\n",
    "        for x in prediction:\n",
    "            fp[x] += 1"
   ]
  },
  {
   "cell_type": "code",
   "execution_count": 36,
   "id": "auburn-cleaning",
   "metadata": {},
   "outputs": [],
   "source": [
    "import pandas as pd \n",
    "mypath = \"/home/xinyu/Project/data/aviation_ntsb/raw_data\"\n",
    "DataDict = pd.read_csv(mypath+'/eADMSPUB_DataDictionary.csv')\n",
    "mypath = \"/home/xinyu/Project/data/aviation_ntsb/raw_data\"\n",
    "Occurrences = pd.read_csv(mypath+'/Occurrences.csv')\n",
    "Occurrences_select = Occurrences[['ev_id', 'Aircraft_Key', 'Occurrence_No', 'Occurrence_Code',\n",
    "       'Phase_of_Flight']]\n",
    "Count = Occurrences_select.groupby(['Occurrence_Code','Phase_of_Flight']).size().reset_index()\n",
    "Count=Count[Count[0]>50]\n",
    "Count = Count.pivot_table(0, ['Occurrence_Code'], 'Phase_of_Flight').fillna(0).T\n",
    "Count['Phase_of_flight']=[list(DataDict[DataDict['code_iaids']==str(x//10*10)]['meaning'])[0] for x in Count.index]\n",
    "Count = Count.groupby(['Phase_of_flight']).agg('sum').reset_index()\n",
    "\n",
    "occurrence_num = len(list(Count.columns)[1:])\n",
    "metric = 3\n",
    "data = np.zeros((metric,occurrence_num))\n",
    "frame = pd.DataFrame(data = data,columns = list(Count.columns)[1:])\n",
    "frame.index = ['Precision','Recall', 'F1']"
   ]
  },
  {
   "cell_type": "code",
   "execution_count": 37,
   "id": "ready-laser",
   "metadata": {},
   "outputs": [],
   "source": [
    "precision = defaultdict(int)  \n",
    "recall = defaultdict(int)\n",
    "f1 = defaultdict(int)\n",
    "for key in tp.keys():\n",
    "    precision[key] = tp[key]/(tp[key]+fp[key])\n",
    "    recall[key] = tp[key]/(tp[key]+fn[key])\n",
    "    f1[key] = 2*(precision[key]*recall[key])/(precision[key]+recall[key])\n",
    "    frame.at['Precision',key] = tp[key]/(tp[key]+fp[key])\n",
    "    frame.at['Recall',key] = tp[key]/(tp[key]+fn[key])\n",
    "    frame.at['F1',key] = 2*(precision[key]*recall[key])/(precision[key]+recall[key])"
   ]
  },
  {
   "cell_type": "code",
   "execution_count": 38,
   "id": "moderate-proposal",
   "metadata": {},
   "outputs": [
    {
     "data": {
      "text/plain": [
       "Text(0.5, 1.0, 'LinearSVC')"
      ]
     },
     "execution_count": 38,
     "metadata": {},
     "output_type": "execute_result"
    },
    {
     "data": {
      "image/png": "[encoded data removed]",
      "text/plain": [
       "<Figure size 2000x1000 with 1 Axes>"
      ]
     },
     "metadata": {},
     "output_type": "display_data"
    }
   ],
   "source": [
    "import seaborn as sns\n",
    "sns.set(rc={'figure.figsize':(20,10)},font_scale=1.1)\n",
    "frame.T.plot(kind='bar',width=0.8).set_title(mode_name[ii])"
   ]
  },
  {
   "cell_type": "code",
   "execution_count": null,
   "id": "solid-cyprus",
   "metadata": {},
   "outputs": [],
   "source": []
  }
 ],
 "metadata": {
  "kernelspec": {
   "display_name": "aiaa",
   "language": "python",
   "name": "aiaa"
  },
  "language_info": {
   "codemirror_mode": {
    "name": "ipython",
    "version": 3
   },
   "file_extension": ".py",
   "mimetype": "text/x-python",
   "name": "python",
   "nbconvert_exporter": "python",
   "pygments_lexer": "ipython3",
   "version": "3.7.15"
  }
 },
 "nbformat": 4,
 "nbformat_minor": 5
}
