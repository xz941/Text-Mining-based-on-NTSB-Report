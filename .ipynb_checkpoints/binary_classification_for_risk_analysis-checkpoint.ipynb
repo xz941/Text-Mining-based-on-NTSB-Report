{
 "cells": [
  {
   "cell_type": "markdown",
   "id": "intelligent-reliance",
   "metadata": {},
   "source": [
    "# Binary Classification for Risk Analysis"
   ]
  },
  {
   "cell_type": "markdown",
   "id": "minute-outline",
   "metadata": {},
   "source": [
    "## Code Requirements"
   ]
  },
  {
   "cell_type": "markdown",
   "id": "comfortable-shame",
   "metadata": {},
   "source": [
    "Following is the package requirements for the notebook\n",
    "- Pytorch 1.4.0\n",
    "- catboost 0.23\n",
    "- xgboost 1.0.2\n",
    "- sklearn 0.21.3"
   ]
  },
  {
   "cell_type": "markdown",
   "id": "stopped-istanbul",
   "metadata": {},
   "source": [
    "## Section 1: Data Preprocessing"
   ]
  },
  {
   "cell_type": "code",
   "execution_count": null,
   "id": "sustainable-reduction",
   "metadata": {},
   "outputs": [],
   "source": []
  },
  {
   "cell_type": "markdown",
   "id": "chemical-building",
   "metadata": {},
   "source": [
    "## Section 2: Modeling"
   ]
  },
  {
   "cell_type": "code",
   "execution_count": null,
   "id": "unique-roller",
   "metadata": {},
   "outputs": [],
   "source": []
  },
  {
   "cell_type": "markdown",
   "id": "plastic-salem",
   "metadata": {},
   "source": [
    "## Section 3: Result Analysis"
   ]
  },
  {
   "cell_type": "code",
   "execution_count": null,
   "id": "descending-theme",
   "metadata": {},
   "outputs": [],
   "source": []
  },
  {
   "cell_type": "code",
   "execution_count": null,
   "id": "reported-basement",
   "metadata": {},
   "outputs": [],
   "source": []
  }
 ],
 "metadata": {
  "kernelspec": {
   "display_name": "aiaa",
   "language": "python",
   "name": "aiaa"
  },
  "language_info": {
   "codemirror_mode": {
    "name": "ipython",
    "version": 3
   },
   "file_extension": ".py",
   "mimetype": "text/x-python",
   "name": "python",
   "nbconvert_exporter": "python",
   "pygments_lexer": "ipython3",
   "version": "3.11.0"
  }
 },
 "nbformat": 4,
 "nbformat_minor": 5
}
