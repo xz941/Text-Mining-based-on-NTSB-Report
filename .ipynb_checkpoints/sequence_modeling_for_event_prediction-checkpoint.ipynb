{
 "cells": [
  {
   "cell_type": "markdown",
   "id": "published-paragraph",
   "metadata": {},
   "source": [
    "# Sequence modeling for Event Prediction.ipynb"
   ]
  },
  {
   "cell_type": "markdown",
   "id": "nuclear-ancient",
   "metadata": {},
   "source": [
    "## Code Requirements"
   ]
  },
  {
   "cell_type": "markdown",
   "id": "standing-crazy",
   "metadata": {},
   "source": [
    "Following is the package requirements for the notebook\n",
    "- Pytorch 1.4.0\n",
    "- catboost 0.23\n",
    "- xgboost 1.0.2\n",
    "- sklearn 0.21.3"
   ]
  },
  {
   "cell_type": "markdown",
   "id": "potential-effects",
   "metadata": {},
   "source": [
    "## Section 1: Data Preprocessing"
   ]
  },
  {
   "cell_type": "code",
   "execution_count": null,
   "id": "geological-words",
   "metadata": {},
   "outputs": [],
   "source": []
  },
  {
   "cell_type": "markdown",
   "id": "integral-battlefield",
   "metadata": {},
   "source": [
    "## Section 2: Modeling"
   ]
  },
  {
   "cell_type": "code",
   "execution_count": null,
   "id": "interesting-vision",
   "metadata": {},
   "outputs": [],
   "source": []
  },
  {
   "cell_type": "markdown",
   "id": "surprising-camping",
   "metadata": {},
   "source": [
    "## Section 3: Result Analysis"
   ]
  },
  {
   "cell_type": "code",
   "execution_count": null,
   "id": "superb-parcel",
   "metadata": {},
   "outputs": [],
   "source": []
  },
  {
   "cell_type": "code",
   "execution_count": null,
   "id": "buried-poetry",
   "metadata": {},
   "outputs": [],
   "source": []
  }
 ],
 "metadata": {
  "kernelspec": {
   "display_name": "aiaa",
   "language": "python",
   "name": "aiaa"
  },
  "language_info": {
   "codemirror_mode": {
    "name": "ipython",
    "version": 3
   },
   "file_extension": ".py",
   "mimetype": "text/x-python",
   "name": "python",
   "nbconvert_exporter": "python",
   "pygments_lexer": "ipython3",
   "version": "3.11.0"
  }
 },
 "nbformat": 4,
 "nbformat_minor": 5
}
