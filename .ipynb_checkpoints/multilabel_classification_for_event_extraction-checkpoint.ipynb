{
 "cells": [
  {
   "cell_type": "markdown",
   "id": "wanted-executive",
   "metadata": {},
   "source": [
    "# Multilabel Classification for Event Extraction"
   ]
  },
  {
   "cell_type": "markdown",
   "id": "suspected-small",
   "metadata": {},
   "source": [
    "## Code Requirements"
   ]
  },
  {
   "cell_type": "markdown",
   "id": "executive-genius",
   "metadata": {},
   "source": [
    "Following is the package requirements for the notebook\n",
    "- Pytorch 1.4.0\n",
    "- catboost 0.23\n",
    "- xgboost 1.0.2\n",
    "- sklearn 0.21.3"
   ]
  },
  {
   "cell_type": "markdown",
   "id": "final-intake",
   "metadata": {},
   "source": [
    "## Section 1: Data Preprocessing"
   ]
  },
  {
   "cell_type": "code",
   "execution_count": null,
   "id": "qualified-messenger",
   "metadata": {},
   "outputs": [],
   "source": []
  },
  {
   "cell_type": "markdown",
   "id": "legitimate-drama",
   "metadata": {},
   "source": [
    "## Section 2: Modeling"
   ]
  },
  {
   "cell_type": "code",
   "execution_count": null,
   "id": "worth-sailing",
   "metadata": {},
   "outputs": [],
   "source": []
  },
  {
   "cell_type": "markdown",
   "id": "viral-remove",
   "metadata": {},
   "source": [
    "## Section 3: Result Analysis"
   ]
  },
  {
   "cell_type": "code",
   "execution_count": null,
   "id": "graduate-perception",
   "metadata": {},
   "outputs": [],
   "source": []
  },
  {
   "cell_type": "code",
   "execution_count": null,
   "id": "graduate-measurement",
   "metadata": {},
   "outputs": [],
   "source": []
  }
 ],
 "metadata": {
  "kernelspec": {
   "display_name": "aiaa",
   "language": "python",
   "name": "aiaa"
  },
  "language_info": {
   "codemirror_mode": {
    "name": "ipython",
    "version": 3
   },
   "file_extension": ".py",
   "mimetype": "text/x-python",
   "name": "python",
   "nbconvert_exporter": "python",
   "pygments_lexer": "ipython3",
   "version": "3.11.0"
  }
 },
 "nbformat": 4,
 "nbformat_minor": 5
}
